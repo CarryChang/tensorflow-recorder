{
 "cells": [
  {
   "cell_type": "markdown",
   "metadata": {},
   "source": [
    "# Basic TFRUtil Usage\n",
    "\n",
    "This notebook demonstrates the basic usage of TFRUtil.  It is meant to be run from the <repo>/sample/ path and uses test images included with TFRUtil stored in <repo>/tfrutil/test_data.\n",
    "    \n",
    "Before running this notebook, please install TFUtil with the command `python setup.py` from the repository root."
   ]
  },
  {
   "cell_type": "code",
   "execution_count": 1,
   "metadata": {},
   "outputs": [],
   "source": [
    "import pandas as pd\n",
    "import tfrutil"
   ]
  },
  {
   "cell_type": "code",
   "execution_count": 2,
   "metadata": {},
   "outputs": [],
   "source": [
    "df = pd.read_csv(\"data.csv\")"
   ]
  },
  {
   "cell_type": "code",
   "execution_count": 3,
   "metadata": {},
   "outputs": [
    {
     "data": {
      "text/html": [
       "<div>\n",
       "<style scoped>\n",
       "    .dataframe tbody tr th:only-of-type {\n",
       "        vertical-align: middle;\n",
       "    }\n",
       "\n",
       "    .dataframe tbody tr th {\n",
       "        vertical-align: top;\n",
       "    }\n",
       "\n",
       "    .dataframe thead th {\n",
       "        text-align: right;\n",
       "    }\n",
       "</style>\n",
       "<table border=\"1\" class=\"dataframe\">\n",
       "  <thead>\n",
       "    <tr style=\"text-align: right;\">\n",
       "      <th></th>\n",
       "      <th>split</th>\n",
       "      <th>image_uri</th>\n",
       "      <th>label</th>\n",
       "    </tr>\n",
       "  </thead>\n",
       "  <tbody>\n",
       "    <tr>\n",
       "      <th>0</th>\n",
       "      <td>TRAIN</td>\n",
       "      <td>../tfrutil/test_data/images/cat/cat-640x853-1.jpg</td>\n",
       "      <td>cat</td>\n",
       "    </tr>\n",
       "    <tr>\n",
       "      <th>1</th>\n",
       "      <td>VALIDATION</td>\n",
       "      <td>../tfrutil/test_data/images/cat/cat-800x600-2.jpg</td>\n",
       "      <td>cat</td>\n",
       "    </tr>\n",
       "    <tr>\n",
       "      <th>2</th>\n",
       "      <td>TEST</td>\n",
       "      <td>../tfrutil/test_data/images/cat/cat-800x600-3.jpg</td>\n",
       "      <td>cat</td>\n",
       "    </tr>\n",
       "    <tr>\n",
       "      <th>3</th>\n",
       "      <td>TRAIN</td>\n",
       "      <td>../tfrutil/test_data/images/goat/goat-640x640-...</td>\n",
       "      <td>goat</td>\n",
       "    </tr>\n",
       "    <tr>\n",
       "      <th>4</th>\n",
       "      <td>VALIDATION</td>\n",
       "      <td>../tfrutil/test_data/images/goat/goat-320x320-...</td>\n",
       "      <td>goat</td>\n",
       "    </tr>\n",
       "    <tr>\n",
       "      <th>5</th>\n",
       "      <td>TEST</td>\n",
       "      <td>../tfrutil/test_data/images/goat/goat-640x427-...</td>\n",
       "      <td>goat</td>\n",
       "    </tr>\n",
       "  </tbody>\n",
       "</table>\n",
       "</div>"
      ],
      "text/plain": [
       "        split                                          image_uri label\n",
       "0       TRAIN  ../tfrutil/test_data/images/cat/cat-640x853-1.jpg   cat\n",
       "1  VALIDATION  ../tfrutil/test_data/images/cat/cat-800x600-2.jpg   cat\n",
       "2        TEST  ../tfrutil/test_data/images/cat/cat-800x600-3.jpg   cat\n",
       "3       TRAIN  ../tfrutil/test_data/images/goat/goat-640x640-...  goat\n",
       "4  VALIDATION  ../tfrutil/test_data/images/goat/goat-320x320-...  goat\n",
       "5        TEST  ../tfrutil/test_data/images/goat/goat-640x427-...  goat"
      ]
     },
     "execution_count": 3,
     "metadata": {},
     "output_type": "execute_result"
    }
   ],
   "source": [
    "df"
   ]
  },
  {
   "cell_type": "code",
   "execution_count": 4,
   "metadata": {
    "scrolled": true
   },
   "outputs": [
    {
     "name": "stdout",
     "output_type": "stream",
     "text": [
      "Starting DataFlow Transform. This may take a while. Please wait.\n"
     ]
    },
    {
     "data": {
      "application/javascript": [
       "\n",
       "        if (typeof window.interactive_beam_jquery == 'undefined') {\n",
       "          var jqueryScript = document.createElement('script');\n",
       "          jqueryScript.src = 'https://code.jquery.com/jquery-3.4.1.slim.min.js';\n",
       "          jqueryScript.type = 'text/javascript';\n",
       "          jqueryScript.onload = function() {\n",
       "            var datatableScript = document.createElement('script');\n",
       "            datatableScript.src = 'https://cdn.datatables.net/1.10.20/js/jquery.dataTables.min.js';\n",
       "            datatableScript.type = 'text/javascript';\n",
       "            datatableScript.onload = function() {\n",
       "              window.interactive_beam_jquery = jQuery.noConflict(true);\n",
       "              window.interactive_beam_jquery(document).ready(function($){\n",
       "                \n",
       "              });\n",
       "            }\n",
       "            document.head.appendChild(datatableScript);\n",
       "          };\n",
       "          document.head.appendChild(jqueryScript);\n",
       "        } else {\n",
       "          window.interactive_beam_jquery(document).ready(function($){\n",
       "            \n",
       "          });\n",
       "        }"
      ]
     },
     "metadata": {},
     "output_type": "display_data"
    },
    {
     "data": {
      "application/javascript": [
       "\n",
       "        var import_html = () => {\n",
       "          ['https://raw.githubusercontent.com/PAIR-code/facets/1.0.0/facets-dist/facets-jupyter.html'].forEach(href => {\n",
       "            var link = document.createElement('link');\n",
       "            link.rel = 'import'\n",
       "            link.href = href;\n",
       "            document.head.appendChild(link);\n",
       "          });\n",
       "        }\n",
       "        if ('import' in document.createElement('link')) {\n",
       "          import_html();\n",
       "        } else {\n",
       "          var webcomponentScript = document.createElement('script');\n",
       "          webcomponentScript.src = 'https://cdnjs.cloudflare.com/ajax/libs/webcomponentsjs/1.3.3/webcomponents-lite.js';\n",
       "          webcomponentScript.type = 'text/javascript';\n",
       "          webcomponentScript.onload = function(){\n",
       "            import_html();\n",
       "          };\n",
       "          document.head.appendChild(webcomponentScript);\n",
       "        }"
      ]
     },
     "metadata": {},
     "output_type": "display_data"
    },
    {
     "name": "stdout",
     "output_type": "stream",
     "text": [
      "TFRecords created. Output stored in ./out\n"
     ]
    }
   ],
   "source": [
    "df.tensorflow.to_tfr(output_path=\"./out\")"
   ]
  },
  {
   "cell_type": "code",
   "execution_count": 7,
   "metadata": {},
   "outputs": [
    {
     "name": "stdout",
     "output_type": "stream",
     "text": [
      "./out:\r\n",
      "tfrutil-20200629-192138-to-tfr\ttfrutil-beam.log\r\n",
      "\r\n",
      "./out/tfrutil-20200629-192138-to-tfr:\r\n",
      "discarded-data-00000-of-00001\t train-00000-of-00001.tfrecord.gz\r\n",
      "schema.pbtxt\t\t\t transformed_metadata\r\n",
      "test-00000-of-00001.tfrecord.gz  transform_fn\r\n",
      "tft_tmp\t\t\t\t val-00000-of-00001.tfrecord.gz\r\n",
      "\r\n",
      "./out/tfrutil-20200629-192138-to-tfr/tft_tmp:\r\n",
      "tftransform_tmp\r\n",
      "\r\n",
      "./out/tfrutil-20200629-192138-to-tfr/tft_tmp/tftransform_tmp:\r\n",
      "5584526e1f6f4d7d9f5d25ad896a1ecf  940f1e45d0fa4c8f93e58ac8fb7cdc5c\r\n",
      "8441d43a7b774700bdda1a61797ab274  vocab_compute_and_apply_vocabulary_vocabulary\r\n",
      "\r\n",
      "./out/tfrutil-20200629-192138-to-tfr/tft_tmp/tftransform_tmp/5584526e1f6f4d7d9f5d25ad896a1ecf:\r\n",
      "saved_model.pb\tvariables\r\n",
      "\r\n",
      "./out/tfrutil-20200629-192138-to-tfr/tft_tmp/tftransform_tmp/5584526e1f6f4d7d9f5d25ad896a1ecf/variables:\r\n",
      "\r\n",
      "./out/tfrutil-20200629-192138-to-tfr/tft_tmp/tftransform_tmp/8441d43a7b774700bdda1a61797ab274:\r\n",
      "assets\tsaved_model.pb\tvariables\r\n",
      "\r\n",
      "./out/tfrutil-20200629-192138-to-tfr/tft_tmp/tftransform_tmp/8441d43a7b774700bdda1a61797ab274/assets:\r\n",
      "vocab_compute_and_apply_vocabulary_vocabulary\r\n",
      "\r\n",
      "./out/tfrutil-20200629-192138-to-tfr/tft_tmp/tftransform_tmp/8441d43a7b774700bdda1a61797ab274/variables:\r\n",
      "\r\n",
      "./out/tfrutil-20200629-192138-to-tfr/tft_tmp/tftransform_tmp/940f1e45d0fa4c8f93e58ac8fb7cdc5c:\r\n",
      "saved_model.pb\tvariables\r\n",
      "\r\n",
      "./out/tfrutil-20200629-192138-to-tfr/tft_tmp/tftransform_tmp/940f1e45d0fa4c8f93e58ac8fb7cdc5c/variables:\r\n",
      "\r\n",
      "./out/tfrutil-20200629-192138-to-tfr/transformed_metadata:\r\n",
      "schema.pbtxt\r\n",
      "\r\n",
      "./out/tfrutil-20200629-192138-to-tfr/transform_fn:\r\n",
      "assets\tsaved_model.pb\tvariables\r\n",
      "\r\n",
      "./out/tfrutil-20200629-192138-to-tfr/transform_fn/assets:\r\n",
      "vocab_compute_and_apply_vocabulary_vocabulary\r\n",
      "\r\n",
      "./out/tfrutil-20200629-192138-to-tfr/transform_fn/variables:\r\n"
     ]
    }
   ],
   "source": [
    "!ls -R ./out"
   ]
  },
  {
   "cell_type": "markdown",
   "metadata": {},
   "source": [
    "# That's it!\n",
    "\n",
    "As you can see, TFRUtil has taken the supplied CSV and transformed it into TFRecords, ready for consumption, along with the transform function"
   ]
  }
 ],
 "metadata": {
  "kernelspec": {
   "display_name": "Python 3",
   "language": "python",
   "name": "python3"
  },
  "language_info": {
   "codemirror_mode": {
    "name": "ipython",
    "version": 3
   },
   "file_extension": ".py",
   "mimetype": "text/x-python",
   "name": "python",
   "nbconvert_exporter": "python",
   "pygments_lexer": "ipython3",
   "version": "3.7.7"
  }
 },
 "nbformat": 4,
 "nbformat_minor": 4
}
